{
 "cells": [
  {
   "cell_type": "code",
   "execution_count": 56,
   "metadata": {},
   "outputs": [],
   "source": [
    "import numpy as np\n",
    "from numpy.typing import NDArray\n",
    "from typing import Tuple, Any"
   ]
  },
  {
   "cell_type": "code",
   "execution_count": 57,
   "metadata": {},
   "outputs": [],
   "source": [
    "def check_type(obj: Any, name: str):\n",
    "    if isinstance(obj, int):\n",
    "        return \"int\"\n",
    "    elif not isinstance(obj, Tuple):\n",
    "        raise ValueError(f\"{name} should be tuple[int, int] or int, give {type(obj)}\")\n",
    "    if len(obj) == 1:\n",
    "        return \"int\"\n",
    "    if len(obj) == 0:\n",
    "        raise ValueError(f\"{name} should have len = 2, give {len(obj)}\")\n",
    "\n",
    "    if len(obj) > 2:\n",
    "        raise RuntimeError(f\"{name} should have len is 2, give {len(obj)}\")\n",
    "    \n",
    "    if not isinstance(obj[0], int) or not isinstance(obj[1], int):\n",
    "        raise ValueError(f\"{name} should be tuple[int, int], give {type(obj[0]), type(obj[1])}\")"
   ]
  },
  {
   "cell_type": "code",
   "execution_count": 63,
   "metadata": {},
   "outputs": [],
   "source": [
    "class Conv2D:\n",
    "    def __init__(\n",
    "        self,\n",
    "        channel_in: int, \n",
    "        channel_out: int, \n",
    "        kernel_size: int | Tuple[int, int],\n",
    "        stride: int | Tuple[int, int],\n",
    "        padding: int | Tuple[int, int]\n",
    "    ) -> None:\n",
    "        if not isinstance(channel_in, int): \n",
    "            raise ValueError(f\"channel_in should be int, give {type(channel_in)}\")\n",
    "        if not isinstance(channel_out, int):\n",
    "            raise ValueError(f\"channel_out should be int, give {type(channel_out)}\")\n",
    "        if check_type(kernel_size, \"kernel_size\") == \"int\":\n",
    "            kernel_size = (kernel_size, kernel_size)\n",
    "        if check_type(stride, \"stride\") == \"int\":\n",
    "            stride = (stride, stride)\n",
    "        if check_type(padding, \"padding\") == \"int\":\n",
    "            padding = (padding, padding)\n",
    "        print(f\"kernel_size = {kernel_size}, stride = {stride}, padding = {padding}\")\n",
    "        self._channel_in = channel_in\n",
    "        self._channel_out = channel_out\n",
    "        self._kernel_size = kernel_size\n",
    "        self._stride = stride\n",
    "        self._padding = padding\n",
    "        np.random.seed(42)\n",
    "\n",
    "    def __call__(self, img: NDArray[np.uint8]):\n",
    "        # check that kernal_size is good \n",
    "        # create list of filters\n",
    "        self._filters = []\n",
    "        for _ in range(self._channel_out):\n",
    "            self._filters.append(np.random.rand(self._channel_in, self._kernel_size[0], self._kernel_size[1]))\n",
    "        return self.forward(img)\n",
    "    \n",
    "    def forward(self, img: NDArray[np.uint8]):\n",
    "        n_filters = len(self._filters)\n",
    "        n_channels = len(self._channel_in)\n",
    "\n",
    "        out_height = ((img.shape[1] + 2 * self._padding[0] - self._kernel_size[0]) // self._stride[0]) + 1\n",
    "        out_width = ((img.shape[2] + 2 * self._padding[1] - self._kernel_size[1]) // self._stride[1]) + 1\n",
    "        out_channels = n_filters\n",
    "        out = np.zeros((out_channels, out_height, out_width))\n",
    "        # add padding\n",
    "        for n in range(n_filters):\n",
    "            for c in range(n_channels):\n",
    "                for x in range(0, img.shape[1], step=self._stride[0]):\n",
    "                    for y in range(0, img.shape[2], step=self._stride[1]):\n",
    "                        for i in range(self._kernel_size[0]):\n",
    "                            for j in range(self._kernel_size[1]):\n",
    "                                out[n][x][y] += img[c][x + i][y + j] * n_filters[n][c][i][j]\n",
    "\n",
    "\n",
    "        return out"
   ]
  },
  {
   "cell_type": "code",
   "execution_count": null,
   "metadata": {},
   "outputs": [],
   "source": []
  }
 ],
 "metadata": {
  "kernelspec": {
   "display_name": ".venv",
   "language": "python",
   "name": "python3"
  },
  "language_info": {
   "codemirror_mode": {
    "name": "ipython",
    "version": 3
   },
   "file_extension": ".py",
   "mimetype": "text/x-python",
   "name": "python",
   "nbconvert_exporter": "python",
   "pygments_lexer": "ipython3",
   "version": "3.10.12"
  }
 },
 "nbformat": 4,
 "nbformat_minor": 2
}
