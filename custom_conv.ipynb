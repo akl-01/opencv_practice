{
 "cells": [
  {
   "cell_type": "code",
   "execution_count": 34,
   "metadata": {},
   "outputs": [],
   "source": [
    "import numpy as np\n",
    "from numpy.typing import NDArray\n",
    "from typing import Tuple, Any\n",
    "import cv2"
   ]
  },
  {
   "cell_type": "code",
   "execution_count": 35,
   "metadata": {},
   "outputs": [],
   "source": [
    "def check_type(obj: Any, name: str):\n",
    "    if isinstance(obj, int):\n",
    "        return \"int\"\n",
    "    elif not isinstance(obj, Tuple):\n",
    "        raise ValueError(f\"{name} should be tuple[int, int] or int, give {type(obj)}\")\n",
    "    if len(obj) == 1:\n",
    "        return \"int\"\n",
    "    if len(obj) == 0:\n",
    "        raise ValueError(f\"{name} should have len = 2, give {len(obj)}\")\n",
    "\n",
    "    if len(obj) > 2:\n",
    "        raise RuntimeError(f\"{name} should have len is 2, give {len(obj)}\")\n",
    "    \n",
    "    if not isinstance(obj[0], int) or not isinstance(obj[1], int):\n",
    "        raise ValueError(f\"{name} should be tuple[int, int], give {type(obj[0]), type(obj[1])}\")"
   ]
  },
  {
   "cell_type": "code",
   "execution_count": 36,
   "metadata": {},
   "outputs": [],
   "source": [
    "class Conv2D:\n",
    "    def __init__(\n",
    "        self,\n",
    "        channel_in: int, \n",
    "        channel_out: int, \n",
    "        kernel_size: int | Tuple[int, int],\n",
    "        stride: int | Tuple[int, int],\n",
    "        padding: int | Tuple[int, int]\n",
    "    ) -> None:\n",
    "        if not isinstance(channel_in, int): \n",
    "            raise ValueError(f\"channel_in should be int, give {type(channel_in)}\")\n",
    "        if not isinstance(channel_out, int):\n",
    "            raise ValueError(f\"channel_out should be int, give {type(channel_out)}\")\n",
    "        if check_type(kernel_size, \"kernel_size\") == \"int\":\n",
    "            kernel_size = (kernel_size, kernel_size)\n",
    "        if check_type(stride, \"stride\") == \"int\":\n",
    "            stride = (stride, stride)\n",
    "        if check_type(padding, \"padding\") == \"int\":\n",
    "            padding = (padding, padding)\n",
    "        print(f\"kernel_size = {kernel_size}, stride = {stride}, padding = {padding}\")\n",
    "        self._channel_in = channel_in\n",
    "        self._channel_out = channel_out\n",
    "        self._kernel_size = kernel_size\n",
    "        self._stride = stride\n",
    "        self._padding = padding\n",
    "        np.random.seed(42)\n",
    "\n",
    "    def __call__(self, img: NDArray[np.uint8]):\n",
    "        # create list of filters\n",
    "        self._filters = []\n",
    "        for _ in range(self._channel_out):\n",
    "            self._filters.append(np.random.rand(self._kernel_size[0], self._kernel_size[1], self._channel_in))\n",
    "        return self.forward(img)\n",
    "    \n",
    "    def forward(self, img: NDArray[np.uint8]):\n",
    "        n_filters = len(self._filters)\n",
    "        n_channels = self._channel_in\n",
    "\n",
    "        # output dimensional\n",
    "        out_height = ((img.shape[0] + 2 * self._padding[0] - self._kernel_size[0]) // self._stride[0]) + 1\n",
    "        out_width = ((img.shape[1] + 2 * self._padding[1] - self._kernel_size[1]) // self._stride[1]) + 1\n",
    "        out_channels = n_filters\n",
    "        out = np.zeros((out_height, out_width, out_channels))\n",
    "\n",
    "        # add padding to image\n",
    "        padd_height = img.shape[0] + 2 * self._padding[0]\n",
    "        padd_weight = img.shape[1] + 2 * self._padding[1]\n",
    "        padd_img = np.zeros((padd_height, padd_weight, img.shape[2]))\n",
    "        padd_img[self._padding[0]:img.shape[0] + self._padding[0], self._padding[1]:img.shape[1] + self._padding[1]] = img\n",
    "\n",
    "        # check that kernel_size, stride and padding are proper\n",
    "\n",
    "        for n in range(n_filters):\n",
    "            for c in range(n_channels):\n",
    "                for x in range(out_height):\n",
    "                    for y in range(out_width):\n",
    "                        for i in range(self._kernel_size[0]):\n",
    "                            for j in range(self._kernel_size[1]):\n",
    "                                out[x][y][n] += padd_img[self._stride[0] * x + i][self._stride[1] * y + j][c] * self._filters[n][i][j][c]\n",
    "\n",
    "        return out"
   ]
  },
  {
   "cell_type": "code",
   "execution_count": 37,
   "metadata": {},
   "outputs": [
    {
     "name": "stdout",
     "output_type": "stream",
     "text": [
      "kernel_size = (3, 3), stride = (1, 1), padding = (1, 1)\n"
     ]
    }
   ],
   "source": [
    "conv = Conv2D(3, 8, kernel_size=3, stride=1, padding=1)"
   ]
  },
  {
   "cell_type": "code",
   "execution_count": 38,
   "metadata": {},
   "outputs": [],
   "source": [
    "dummy = np.random.rand(10, 10, 3)"
   ]
  },
  {
   "cell_type": "code",
   "execution_count": 40,
   "metadata": {},
   "outputs": [
    {
     "data": {
      "text/plain": [
       "(10, 10, 8)"
      ]
     },
     "execution_count": 40,
     "metadata": {},
     "output_type": "execute_result"
    }
   ],
   "source": [
    "out = conv(dummy)\n",
    "out.shape"
   ]
  },
  {
   "cell_type": "code",
   "execution_count": 41,
   "metadata": {},
   "outputs": [],
   "source": [
    "img = cv2.imread(\"./data/chars1.png\")"
   ]
  },
  {
   "cell_type": "code",
   "execution_count": 42,
   "metadata": {},
   "outputs": [
    {
     "data": {
      "text/plain": [
       "(545, 640, 3)"
      ]
     },
     "execution_count": 42,
     "metadata": {},
     "output_type": "execute_result"
    }
   ],
   "source": [
    "img.shape"
   ]
  },
  {
   "cell_type": "code",
   "execution_count": 46,
   "metadata": {},
   "outputs": [
    {
     "data": {
      "text/plain": [
       "array([[[215, 217, 215],\n",
       "        [221, 223, 221],\n",
       "        [218, 220, 218],\n",
       "        ...,\n",
       "        [208, 208, 207],\n",
       "        [207, 207, 205],\n",
       "        [206, 206, 204]],\n",
       "\n",
       "       [[217, 219, 217],\n",
       "        [217, 219, 217],\n",
       "        [217, 219, 217],\n",
       "        ...,\n",
       "        [208, 208, 205],\n",
       "        [207, 207, 205],\n",
       "        [205, 205, 203]],\n",
       "\n",
       "       [[219, 220, 218],\n",
       "        [218, 219, 217],\n",
       "        [220, 221, 219],\n",
       "        ...,\n",
       "        [209, 209, 207],\n",
       "        [207, 207, 205],\n",
       "        [207, 207, 205]],\n",
       "\n",
       "       ...,\n",
       "\n",
       "       [[173, 171, 166],\n",
       "        [175, 173, 168],\n",
       "        [171, 170, 165],\n",
       "        ...,\n",
       "        [163, 163, 161],\n",
       "        [162, 163, 160],\n",
       "        [160, 161, 158]],\n",
       "\n",
       "       [[174, 172, 167],\n",
       "        [172, 171, 166],\n",
       "        [171, 170, 165],\n",
       "        ...,\n",
       "        [165, 165, 165],\n",
       "        [160, 160, 159],\n",
       "        [159, 160, 158]],\n",
       "\n",
       "       [[168, 167, 162],\n",
       "        [170, 169, 164],\n",
       "        [171, 170, 165],\n",
       "        ...,\n",
       "        [160, 160, 160],\n",
       "        [160, 160, 160],\n",
       "        [159, 159, 159]]], dtype=uint8)"
      ]
     },
     "execution_count": 46,
     "metadata": {},
     "output_type": "execute_result"
    }
   ],
   "source": [
    "img"
   ]
  },
  {
   "cell_type": "code",
   "execution_count": 43,
   "metadata": {},
   "outputs": [],
   "source": [
    "out = conv(img)"
   ]
  },
  {
   "cell_type": "code",
   "execution_count": 44,
   "metadata": {},
   "outputs": [
    {
     "data": {
      "text/plain": [
       "(545, 640, 8)"
      ]
     },
     "execution_count": 44,
     "metadata": {},
     "output_type": "execute_result"
    }
   ],
   "source": [
    "out.shape"
   ]
  },
  {
   "cell_type": "code",
   "execution_count": 45,
   "metadata": {},
   "outputs": [
    {
     "data": {
      "text/plain": [
       "array([[[1508.73211067, 1191.37103411, 1546.96192579, ...,\n",
       "         1131.93640916, 1330.27724766, 1038.33302047],\n",
       "        [2214.11851244, 1925.16109072, 2524.26885915, ...,\n",
       "         1672.04225751, 2088.69838481, 1769.16644076],\n",
       "        [2224.16703785, 1932.44643055, 2535.92726954, ...,\n",
       "         1680.96163346, 2099.97869484, 1780.1372685 ],\n",
       "        ...,\n",
       "        [2098.21628381, 1829.58673292, 2398.01602364, ...,\n",
       "         1587.36269186, 1984.93596455, 1682.06203486],\n",
       "        [2088.62443333, 1821.37025271, 2386.56939971, ...,\n",
       "         1578.75841473, 1976.74037349, 1675.21836147],\n",
       "        [1237.47686229, 1279.79139436, 1704.08724325, ...,\n",
       "          958.31261028, 1352.07646295, 1237.90511761]],\n",
       "\n",
       "       [[2238.37683628, 1903.74584724, 2164.81321885, ...,\n",
       "         1540.48549813, 1636.91591783, 1510.44297005],\n",
       "        [3290.97570442, 2908.58513351, 3460.29349712, ...,\n",
       "         2519.26058964, 2654.27663689, 2715.80009273],\n",
       "        [3299.80727808, 2919.01116126, 3468.90901189, ...,\n",
       "         2531.19384131, 2663.06697384, 2731.76692293],\n",
       "        ...,\n",
       "        [3119.29340861, 2761.81659841, 3284.92543595, ...,\n",
       "         2390.81206348, 2522.10695487, 2581.68132371],\n",
       "        [3106.10682336, 2751.30389878, 3273.26311827, ...,\n",
       "         2382.81574513, 2512.74422265, 2571.70788511],\n",
       "        [1986.1614956 , 1751.2187725 , 2349.51132354, ...,\n",
       "         1633.37087655, 1799.60384207, 1837.38434497]],\n",
       "\n",
       "       [[2241.45993593, 1900.96321961, 2169.18988006, ...,\n",
       "         1544.04049231, 1641.15088879, 1507.68018042],\n",
       "        [3292.49924204, 2911.90149314, 3464.77894339, ...,\n",
       "         2523.68966427, 2661.04817445, 2722.14109813],\n",
       "        [3296.86038579, 2919.43069476, 3470.43313972, ...,\n",
       "         2524.85126847, 2664.156825  , 2726.79964586],\n",
       "        ...,\n",
       "        [3117.02036261, 2761.05586679, 3285.30917662, ...,\n",
       "         2386.90424272, 2522.04530487, 2580.16604429],\n",
       "        [3104.41939713, 2746.29276803, 3271.15159452, ...,\n",
       "         2378.99516218, 2511.10267655, 2568.67889438],\n",
       "        [1983.35994121, 1749.11155337, 2348.77941075, ...,\n",
       "         1631.47608143, 1797.23325785, 1835.30858395]],\n",
       "\n",
       "       ...,\n",
       "\n",
       "       [[1748.93820831, 1488.8807669 , 1699.28013084, ...,\n",
       "         1199.49489695, 1283.47158301, 1180.82368799],\n",
       "        [2557.55425684, 2272.79541765, 2702.88654278, ...,\n",
       "         1956.87794119, 2070.72062894, 2116.1316673 ],\n",
       "        [2547.6988574 , 2258.69648835, 2691.94532161, ...,\n",
       "         1953.28524178, 2063.52885678, 2110.22474125],\n",
       "        ...,\n",
       "        [2384.99113852, 2121.79099937, 2517.10925239, ...,\n",
       "         1810.18707427, 1935.61001783, 1964.80381273],\n",
       "        [2420.15356726, 2147.79943113, 2552.2858651 , ...,\n",
       "         1844.8521168 , 1955.38981951, 1997.64529372],\n",
       "        [1555.34066376, 1367.57302617, 1836.6124194 , ...,\n",
       "         1278.26472313, 1404.57453154, 1434.93807531]],\n",
       "\n",
       "       [[1735.89284983, 1477.54063   , 1687.0362925 , ...,\n",
       "         1189.72749877, 1270.04806626, 1169.28847697],\n",
       "        [2543.90318166, 2252.22789307, 2685.29096448, ...,\n",
       "         1947.98917095, 2057.20281226, 2102.47777075],\n",
       "        [2531.66128257, 2246.12146219, 2673.35816614, ...,\n",
       "         1938.76961041, 2049.10116762, 2100.07191507],\n",
       "        ...,\n",
       "        [2430.85654887, 2153.6510311 , 2564.07501212, ...,\n",
       "         1859.54919824, 1966.94973043, 2009.29539811],\n",
       "        [2418.4523663 , 2138.77406119, 2547.42796459, ...,\n",
       "         1853.7889152 , 1957.76687743, 2006.23877967],\n",
       "        [1543.42638982, 1358.68012919, 1823.33882736, ...,\n",
       "         1269.54121307, 1396.53133087, 1426.42491151]],\n",
       "\n",
       "       [[1172.70297395,  977.06896493, 1092.17497351, ...,\n",
       "          656.49532242,  687.60101698,  705.0704753 ],\n",
       "        [1696.125602  , 1405.40793903, 1735.73742343, ...,\n",
       "         1230.01438828, 1202.7708836 , 1400.05585818],\n",
       "        [1688.14910847, 1401.55469287, 1733.74388784, ...,\n",
       "         1226.78856061, 1200.20249105, 1397.35551964],\n",
       "        ...,\n",
       "        [1629.41608653, 1342.50322039, 1670.21219754, ...,\n",
       "         1188.87324191, 1156.80647715, 1347.30495525],\n",
       "        [1612.07953967, 1332.12483427, 1652.74710005, ...,\n",
       "         1178.6720425 , 1144.8632476 , 1338.13343796],\n",
       "        [1067.73098785,  785.70726541, 1247.71231104, ...,\n",
       "          925.0379743 ,  873.52251179,  929.51816205]]])"
      ]
     },
     "execution_count": 45,
     "metadata": {},
     "output_type": "execute_result"
    }
   ],
   "source": [
    "out"
   ]
  },
  {
   "cell_type": "code",
   "execution_count": null,
   "metadata": {},
   "outputs": [],
   "source": []
  }
 ],
 "metadata": {
  "kernelspec": {
   "display_name": ".venv",
   "language": "python",
   "name": "python3"
  },
  "language_info": {
   "codemirror_mode": {
    "name": "ipython",
    "version": 3
   },
   "file_extension": ".py",
   "mimetype": "text/x-python",
   "name": "python",
   "nbconvert_exporter": "python",
   "pygments_lexer": "ipython3",
   "version": "3.10.12"
  }
 },
 "nbformat": 4,
 "nbformat_minor": 2
}
